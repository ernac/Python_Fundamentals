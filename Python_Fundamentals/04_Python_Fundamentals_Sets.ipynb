{
 "cells": [
  {
   "cell_type": "markdown",
   "id": "708efb1a",
   "metadata": {},
   "source": [
    "# PYTHON SETS\n",
    "\n",
    "`myset = {\"apple\", \"banana\", \"cherry\"}`\n",
    "\n",
    "## SET\n",
    "> Sets are used to store multiple items in a single variable.\n",
    "\n",
    "A set is a collection which is unordered, unchangeable*, and unindexed.\n",
    "\n",
    "Note: Set items are unchangeable, but you can remove items and add new items.\n",
    "Sets are written with `curly brackets`."
   ]
  },
  {
   "cell_type": "code",
   "execution_count": 2,
   "id": "5b33b105",
   "metadata": {},
   "outputs": [
    {
     "name": "stdout",
     "output_type": "stream",
     "text": [
      "{'banana', 'apple', 'cherry'}\n"
     ]
    }
   ],
   "source": [
    "# Example\n",
    "# Create a Set\n",
    "\n",
    "thisset = {\"apple\", \"banana\", \"cherry\"}\n",
    "print(thisset)"
   ]
  }
 ],
 "metadata": {
  "kernelspec": {
   "display_name": "dsa388",
   "language": "python",
   "name": "python3"
  },
  "language_info": {
   "codemirror_mode": {
    "name": "ipython",
    "version": 3
   },
   "file_extension": ".py",
   "mimetype": "text/x-python",
   "name": "python",
   "nbconvert_exporter": "python",
   "pygments_lexer": "ipython3",
   "version": "3.8.20"
  }
 },
 "nbformat": 4,
 "nbformat_minor": 5
}
