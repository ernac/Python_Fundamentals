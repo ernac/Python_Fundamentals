{
 "cells": [
  {
   "cell_type": "markdown",
   "id": "b0a92962",
   "metadata": {},
   "source": [
    "# ACCESS LIST ITENS"
   ]
  },
  {
   "cell_type": "code",
   "execution_count": 9,
   "id": "35253036",
   "metadata": {},
   "outputs": [
    {
     "name": "stdout",
     "output_type": "stream",
     "text": [
      "banana\n"
     ]
    }
   ],
   "source": [
    "# Exercise 1:\n",
    "# L1 = [\"apple\", \"banana\", \"cherry\"]\n",
    "# Print the second item in the list.\n",
    "L1 = [\"apple\", \"banana\", \"cherry\"]\n",
    "print(L1[1])"
   ]
  },
  {
   "cell_type": "code",
   "execution_count": 10,
   "id": "2f70f2cd",
   "metadata": {},
   "outputs": [
    {
     "name": "stdout",
     "output_type": "stream",
     "text": [
      "15\n"
     ]
    }
   ],
   "source": [
    "# Exercise 2:\n",
    "# L2 = [1, 5, 9, 12, 15]\n",
    "# Print the last item in the list using negative indexing.\n",
    "L2 = [1, 5, 9, 12, 15]\n",
    "print(L2[-1])"
   ]
  },
  {
   "cell_type": "code",
   "execution_count": 1,
   "id": "69fdc1e8",
   "metadata": {},
   "outputs": [],
   "source": [
    "# Exercise 3:\n",
    "# L3 = [\"cat\", \"dog\", \"bird\", \"fish\", \"snake\"]\n",
    "# Print the third, fourth, and fifth items from the list.\n"
   ]
  },
  {
   "cell_type": "code",
   "execution_count": 2,
   "id": "f504778d",
   "metadata": {},
   "outputs": [],
   "source": [
    "# Exercise 4:\n",
    "# L4 = [10, 20, 30, 40, 50, 60, 70]\n",
    "# Print the items from the beginning to the fourth item (not included).\n"
   ]
  },
  {
   "cell_type": "code",
   "execution_count": 3,
   "id": "328431ea",
   "metadata": {},
   "outputs": [],
   "source": [
    "\n",
    "# Exercise 5:\n",
    "# L5 = [\"red\", \"green\", \"blue\", \"yellow\", \"pink\"]\n",
    "# Print the items from \"blue\" to the end of the list.\n",
    "\n"
   ]
  },
  {
   "cell_type": "code",
   "execution_count": 4,
   "id": "a92b8b4e",
   "metadata": {},
   "outputs": [],
   "source": [
    "# Exercise 6:\n",
    "# L6 = [True, False, True, True, False]\n",
    "# Using negative indexing, print the items from the fourth-to-last item to the second-to-last item.\n",
    "\n"
   ]
  },
  {
   "cell_type": "code",
   "execution_count": 5,
   "id": "a58f9f03",
   "metadata": {},
   "outputs": [],
   "source": [
    "# Exercise 7:\n",
    "# L7 = [1.1, 2.2, 3.3, 4.4, 5.5]\n",
    "# Check if the value 3.3 exists in the list and print the result.\n",
    "\n"
   ]
  },
  {
   "cell_type": "code",
   "execution_count": 6,
   "id": "92919702",
   "metadata": {},
   "outputs": [],
   "source": [
    "# Exercise 8:\n",
    "# L8 = [\"a\", \"b\", \"c\", \"d\", \"e\", \"f\"]\n",
    "# Print the first item of the list.\n",
    "\n"
   ]
  },
  {
   "cell_type": "code",
   "execution_count": 7,
   "id": "f482e8ed",
   "metadata": {},
   "outputs": [],
   "source": [
    "# Exercise 9:\n",
    "# L9 = [100, 200, 300, 400, 500]\n",
    "# Print the second-to-last item of the list.\n",
    "\n"
   ]
  },
  {
   "cell_type": "code",
   "execution_count": 8,
   "id": "6303da18",
   "metadata": {},
   "outputs": [],
   "source": [
    "# Exercise 10:\n",
    "# L10 = [\"Monday\", \"Tuesday\", \"Wednesday\", \"Thursday\", \"Friday\"]\n",
    "# Print the items from the second item to the fourth item."
   ]
  },
  {
   "cell_type": "code",
   "execution_count": null,
   "id": "50496c75",
   "metadata": {},
   "outputs": [],
   "source": []
  }
 ],
 "metadata": {
  "kernelspec": {
   "display_name": "dsa388",
   "language": "python",
   "name": "python3"
  },
  "language_info": {
   "codemirror_mode": {
    "name": "ipython",
    "version": 3
   },
   "file_extension": ".py",
   "mimetype": "text/x-python",
   "name": "python",
   "nbconvert_exporter": "python",
   "pygments_lexer": "ipython3",
   "version": "3.8.20"
  }
 },
 "nbformat": 4,
 "nbformat_minor": 5
}
