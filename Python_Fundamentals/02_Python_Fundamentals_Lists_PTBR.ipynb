{
 "cells": [
  {
   "cell_type": "markdown",
   "id": "fa2a7b99",
   "metadata": {},
   "source": [
    "# PYTHON - LISTAS\n",
    "\n",
    "> Listas são usadas para comportar múltiplos itens em uma única variável.\n",
    "> Listas são um dos quatro tipos de dados internos usados para armazenar conjutos de dados, os outros três são TUPLA, CONJUNTO e DICIONÁRIO, todos com qualidades únicas e usos particulares."
   ]
  },
  {
   "cell_type": "code",
   "execution_count": null,
   "id": "1f710623",
   "metadata": {},
   "outputs": [],
   "source": [
    "# Criando uma lista\n",
    "lista1 = ['banana', 'maçã', 'cereja']\n",
    "print (lista1)"
   ]
  },
  {
   "cell_type": "markdown",
   "id": "b841a146",
   "metadata": {},
   "source": [
    "## ITENS DA LISTA\n",
    "\n",
    "> Itens são da lista são ordenados, mutáveis e permitem duplicatas. Listas são indexadas, com o primeiro item sendo `[0]` e o segundo item sendo `[1]`.\n",
    "\n",
    "- **Ordenadas**: significa que os itens tem uma determinada orderm e ela não será mudada. Se você adicionar novos itens a uma lista, os novos itens serão colocados ao final da lista.\n",
    "- **Mutável**: significa que é possível alterar a lista, seja por adição, mudança ou deleção de itens, depois da criação de uma lista.\n",
    "- **Duplicatas**: Listas são indexadas e podem ter itens de mesmo valor."
   ]
  },
  {
   "cell_type": "code",
   "execution_count": null,
   "id": "b957f1bb",
   "metadata": {},
   "outputs": [],
   "source": [
    "# Lista que permite duplicatas\n",
    "lista1 = [1,1,1,1,1,1]\n",
    "lista2 = ['maçã','maçã','uva']\n",
    "print(lista1, lista2)\n",
    "\n",
    "# Saber o tamanho da lista\n",
    "print(len(lista2))"
   ]
  },
  {
   "cell_type": "markdown",
   "id": "ab22d6b8",
   "metadata": {},
   "source": [
    "# LISTAS PODEM CONTER TIPOS DE DADOS DIFERENTES\n",
    "\n",
    "> É possível criar uma lista que contenha strings, integers e valores booleanos.\n"
   ]
  },
  {
   "cell_type": "code",
   "execution_count": null,
   "id": "ed9e0029",
   "metadata": {},
   "outputs": [],
   "source": [
    "# Construtor da lista\n",
    "# Use list()\n",
    "\n",
    "lista_nova = list(('L','J','V')) # notar os parentesis duplos para a construção\n",
    "print(lista_nova)\n",
    "\n",
    "# Lista com múltiplos datat types\n",
    "lista_nova1 = list(('L',9,'J',12,'V',13,True,True,False))\n",
    "print(lista_nova1)\n",
    "\n",
    "# Usando type() para identificar uma lista\n",
    "type(lista_nova1)"
   ]
  },
  {
   "cell_type": "markdown",
   "id": "d0fa59da",
   "metadata": {},
   "source": [
    "# ACESSANDO ITENS DA LISTA\n",
    "> Acesse os itens da lista usando o número de índice - que começa em zero."
   ]
  },
  {
   "cell_type": "code",
   "execution_count": null,
   "id": "b155c79b",
   "metadata": {},
   "outputs": [],
   "source": [
    "print(lista_nova1[0])\n",
    "print(lista_nova1[2])\n",
    "print(lista_nova1[4])"
   ]
  },
  {
   "cell_type": "markdown",
   "id": "2f140d9a",
   "metadata": {},
   "source": [
    "# INTERVALO DE ÍNDICES\n",
    "> Você pode usar um intervalo especificando em qual item inicia e termina o intervalo da lista. Ao especificar um intervalo, o valor de retorno será uma nova lista com os itens especificados."
   ]
  },
  {
   "cell_type": "code",
   "execution_count": null,
   "id": "543fced3",
   "metadata": {},
   "outputs": [],
   "source": [
    "print(lista_nova1[1:4]) # 1 é iNuído e o 4 é excluído"
   ]
  },
  {
   "cell_type": "markdown",
   "id": "26d6a270",
   "metadata": {},
   "source": [
    "## ÍNDICES NEGATIVOS\n",
    "> Índices negativos começam do final da lista, sendo o último item -1 e o penúltimo item -2."
   ]
  },
  {
   "cell_type": "code",
   "execution_count": null,
   "id": "14493e97",
   "metadata": {},
   "outputs": [],
   "source": [
    "print(lista_nova1[-1])\n",
    "print(lista_nova1[-4:-1])"
   ]
  },
  {
   "cell_type": "markdown",
   "id": "cc3dcca2",
   "metadata": {},
   "source": [
    "## INTERVALOS SEM ÍNÍCIO E SEM FIM DE BUSCA\n",
    "> Definem um ponto de partida ou de término apenas."
   ]
  },
  {
   "cell_type": "code",
   "execution_count": null,
   "id": "35854e0a",
   "metadata": {},
   "outputs": [],
   "source": [
    "# Intervalo sem início, apenas com o fim.\n",
    "print(lista_nova1)\n",
    "print(lista_nova1[:5]) # vai do primeiro item ao quinto item\n",
    "\n",
    "# Intervalo apenas com o final, sem o início\n",
    "print(lista_nova1[3:]) # do item 3"
   ]
  },
  {
   "cell_type": "markdown",
   "id": "bef0a11a",
   "metadata": {},
   "source": [
    "## VERIFICANDO SE UM ITEM EXISTE\n",
    "> Para verificar a existência de um item em uma lista, utiliza-se a sintaxe `IN`. "
   ]
  },
  {
   "cell_type": "code",
   "execution_count": null,
   "id": "26f8bc93",
   "metadata": {},
   "outputs": [],
   "source": [
    "# Checagem simples\n",
    "print('L' in lista_nova1)\n",
    "print('B' in lista_nova1)"
   ]
  },
  {
   "cell_type": "markdown",
   "id": "d13ae845",
   "metadata": {},
   "source": [
    "# PYTHON - MUDANDO ITENS DA LISTA\n",
    "> Para mudar um valor específico da lista, faça referência ao número de índice."
   ]
  },
  {
   "cell_type": "code",
   "execution_count": null,
   "id": "b2796a29",
   "metadata": {},
   "outputs": [],
   "source": [
    "print(lista_nova1[0])\n",
    "lista_nova1[0] = 'B'\n",
    "print(lista_nova1)"
   ]
  },
  {
   "cell_type": "markdown",
   "id": "b4668022",
   "metadata": {},
   "source": [
    "## MUDANDO UM INTERVALO DE VALORES\n",
    "> Para mudar o valor dos itens dentro de um intervalo específico, defina uma lista com os novos valores, e refira-se ao intervalo do número de índices que você quer inserir novos valores.\n",
    "\n",
    "Exemplo:\n",
    "Mudar os valores de 'J',12 para 'N',7"
   ]
  },
  {
   "cell_type": "code",
   "execution_count": null,
   "id": "c9b63e91",
   "metadata": {},
   "outputs": [],
   "source": [
    "print(lista_nova1)\n",
    "lista_nova1[1:3] = [12,\"C\"]\n",
    "print(lista_nova1)\n"
   ]
  },
  {
   "cell_type": "markdown",
   "id": "bfb52618",
   "metadata": {},
   "source": [
    ">Se você inserir mais itens que você substitui, os novos itens são inseridos onde você espeficificou, e os demais itens se moverão de acordo."
   ]
  },
  {
   "cell_type": "code",
   "execution_count": null,
   "id": "c328c19b",
   "metadata": {},
   "outputs": [],
   "source": [
    "lista_nova = [\"J\",\"N\",\"M\"]\n",
    "lista_nova[1:2] = [\"A\",\"R\"]\n",
    "print(lista_nova)\n"
   ]
  },
  {
   "cell_type": "markdown",
   "id": "b97e0c9f",
   "metadata": {},
   "source": [
    "> Se você inserir menos itens que você substitui, os novos itens serão inseridos onde você especificou, e o restante dos itens se moverão de acordo."
   ]
  },
  {
   "cell_type": "code",
   "execution_count": null,
   "id": "034fdab8",
   "metadata": {},
   "outputs": [],
   "source": [
    "lista_nova[1:3] = [\"B\"]\n",
    "print(lista_nova)"
   ]
  },
  {
   "cell_type": "markdown",
   "id": "4b50b4cb",
   "metadata": {},
   "source": [
    "## INSERINDO ITENS\n",
    "> Para inserir um novo item, sem substituir qualquer um dos valores existentes, pode-se usar o método `insert()`.\n",
    "> O método `insert()` insere um item no índice especificado."
   ]
  },
  {
   "cell_type": "code",
   "execution_count": null,
   "id": "5b735a16",
   "metadata": {},
   "outputs": [],
   "source": [
    "letras =[\"a\",\"b\",\"c\"]\n",
    "letras.insert(2,\"y\")\n",
    "print(letras)"
   ]
  },
  {
   "cell_type": "markdown",
   "id": "b078d1cb",
   "metadata": {},
   "source": [
    "# PYTHON - ADICIONANDO ITENS À LISTA\n",
    "\n",
    "## ACRESCENTAR ITEM VIA MÉTODO\n",
    "\n",
    "### MÉTODO APPEND()\n",
    "\n",
    "> Usando o método `append()` para acrescentar um item. `append()` sempre irá acrescentar o item ao final da lista.  "
   ]
  },
  {
   "cell_type": "code",
   "execution_count": null,
   "id": "4bd89a73",
   "metadata": {},
   "outputs": [],
   "source": [
    "cores = [\"Azul\",\"Branco\", \"Verde\", \"Amarelo\"]\n",
    "cores.append(\"Laranja\")\n",
    "print(cores)"
   ]
  },
  {
   "cell_type": "markdown",
   "id": "6b88c8d1",
   "metadata": {},
   "source": [
    "### MÉTODO INSERT()\n",
    "\n",
    "> Como já explicado anterior, outro método de inserção de itens na list é o método `insert()`. Com ele é possível inserir um item na lista, usando o índice como referência."
   ]
  },
  {
   "cell_type": "code",
   "execution_count": null,
   "id": "f753b611",
   "metadata": {},
   "outputs": [],
   "source": [
    "cores = [\"Azul\",\"Branco\", \"Verde\", \"Amarelo\"]\n",
    "cores.insert(1,\"Violeta\")\n",
    "print(cores)"
   ]
  },
  {
   "cell_type": "markdown",
   "id": "5e91acb6",
   "metadata": {},
   "source": [
    "## ESTENDER A LISTA\n",
    "> Para acrescentar elementos de uma outra lista à lista atual, usa-se o método `extend()`. A segunda lista é adicionada ao final da primeira.\n",
    "\n",
    "**Observação**: O método `append()` não se limita a concatenar listas, podendo adicionar qualquer objetivo interativo (tuplas, conjuntos, dicionários, etc.)"
   ]
  },
  {
   "cell_type": "code",
   "execution_count": null,
   "id": "16001cf0",
   "metadata": {},
   "outputs": [],
   "source": [
    "# concatenando listas\n",
    "legumes = [\"Batata\",\"Cenoura\",\"Chuchu\"]\n",
    "frutas_tropicais = [\"Manga\",\"Abacaxi\",\"Mamão\"]\n",
    "legumes.extend(frutas_tropicais)\n",
    "print(legumes)"
   ]
  },
  {
   "cell_type": "code",
   "execution_count": null,
   "id": "da54c080",
   "metadata": {},
   "outputs": [],
   "source": [
    "# concatenando lista e tupla\n",
    "legumes = [\"Batata\",\"Cenoura\",\"Chuchu\"]\n",
    "frutas = ('Kiwi', 'Laranja')\n",
    "legumes.append(frutas)\n",
    "print(legumes)"
   ]
  },
  {
   "cell_type": "markdown",
   "id": "a08b1425",
   "metadata": {},
   "source": [
    "# REMOVENDO ITENS DA LISTA\n",
    "\n",
    ">Esta seção vai tratar de quatro métodos usados para exclusão de itens de uma lista:\n",
    "> - `remove()` - usado para apontar nominalmente o item a ser excluído. No caso de haver duas ocorrências o primeiro item é removido.\n",
    "> - `pop()` - usado para remover o último item da lista, se estiver em branco. Pode usar o número de índice também.\n",
    "> - `del()` - que pode ser usado para remover um item através do índice ou pode ser usado para apagar a lista completa.\n",
    "> - `clear()` - usado para limpar a lista completamente"
   ]
  },
  {
   "cell_type": "markdown",
   "id": "f181d74f",
   "metadata": {},
   "source": [
    "## MÉTODO REMOVE()"
   ]
  },
  {
   "cell_type": "code",
   "execution_count": null,
   "id": "0c0f1875",
   "metadata": {},
   "outputs": [],
   "source": [
    "# MÉTODO REMOVE()\n",
    "cores = [\"Preto\", \"Rosa\", \"Lilás\"] # Lista usada para o exemplo\n",
    "cores.remove(\"Lilás\")\n",
    "print(cores)"
   ]
  },
  {
   "cell_type": "markdown",
   "id": "a0882472",
   "metadata": {},
   "source": [
    "## MÉTODO POP()"
   ]
  },
  {
   "cell_type": "code",
   "execution_count": null,
   "id": "ff606843",
   "metadata": {},
   "outputs": [],
   "source": [
    "# MÉTODO POP()\n",
    "\n",
    "# sem apontar índice para remoção\n",
    "\n",
    "cores = [\"Preto\", \"Rosa\", \"Lilás\"] # Lista usada para o exemplo\n",
    "cores.pop() # remove o último item da lista\n",
    "print(cores)"
   ]
  },
  {
   "cell_type": "markdown",
   "id": "a39cbedf",
   "metadata": {},
   "source": [
    "## MÉTODO POP()"
   ]
  },
  {
   "cell_type": "code",
   "execution_count": null,
   "id": "019faeb9",
   "metadata": {},
   "outputs": [],
   "source": [
    "# apontando índice para remoção\n",
    "cores = [\"Preto\", \"Rosa\", \"Lilás\"] # Lista usada para o exemplo\n",
    "cores.pop(1) # remove o índice item da lista\n",
    "print(cores)"
   ]
  },
  {
   "cell_type": "markdown",
   "id": "3b021614",
   "metadata": {},
   "source": [
    "## MÉTODO DEL()"
   ]
  },
  {
   "cell_type": "code",
   "execution_count": null,
   "id": "fca8832f",
   "metadata": {},
   "outputs": [],
   "source": [
    "# MÉTODO DEL()\n",
    "cores = [\"Preto\", \"Rosa\", \"Lilás\"] # Lista usada para o exemplo\n",
    "del cores # apagando a lista completamente - remove o objeto\n"
   ]
  },
  {
   "cell_type": "markdown",
   "id": "6c2f1885",
   "metadata": {},
   "source": [
    "## MÉTODO CLEAR()"
   ]
  },
  {
   "cell_type": "code",
   "execution_count": null,
   "id": "73a1d0cf",
   "metadata": {},
   "outputs": [],
   "source": [
    "# MÉTODO CLEAR()\n",
    "cores = [\"Preto\", \"Rosa\", \"Lilás\"] # Lista usada para o exemplo\n",
    "cores.clear() # limpa completamente a lista, porém não apaga o objeto lista.\n",
    "print(cores)"
   ]
  },
  {
   "cell_type": "code",
   "execution_count": null,
   "id": "3a2a3176",
   "metadata": {},
   "outputs": [],
   "source": [
    "print(\"Python\" * 3)"
   ]
  },
  {
   "cell_type": "markdown",
   "id": "aae52dbb",
   "metadata": {},
   "source": [
    "# PERCORRENDO LISTAS\n",
    "\n",
    "> Neste bloco veremos como percorrer uma lista usando os laços de Python\n",
    "- FOR\n",
    "- Usando laço e índices\n",
    "- WHILE\n",
    "- List Comprehension "
   ]
  },
  {
   "cell_type": "markdown",
   "id": "85680e11",
   "metadata": {},
   "source": [
    "## LAÇO FOR"
   ]
  },
  {
   "cell_type": "code",
   "execution_count": null,
   "id": "336eec61",
   "metadata": {},
   "outputs": [],
   "source": [
    "numeros = [1,3,5,7,9]\n",
    "for x in numeros:\n",
    "    print(x)"
   ]
  },
  {
   "cell_type": "markdown",
   "id": "51098c0e",
   "metadata": {},
   "source": [
    "## PERCORRENDO OS NÚMEROS DE ÍNDICE"
   ]
  },
  {
   "cell_type": "code",
   "execution_count": null,
   "id": "d886d8c8",
   "metadata": {},
   "outputs": [],
   "source": [
    "# usando funções range() e len() para criar um interativo adequado\n",
    "numeros = [1,3,5,7,9]\n",
    "for i in range(len(numeros)):\n",
    "    print(numeros[i])\n"
   ]
  },
  {
   "cell_type": "markdown",
   "id": "ab40f02d",
   "metadata": {},
   "source": [
    "## LAÇO WHILE\n",
    "> Combine o laço while com a função `len()` para determinar o comprimento da lista (tamanho), então começo com um iterador 0 e percorra toda a lista usando essa referência de índices "
   ]
  },
  {
   "cell_type": "code",
   "execution_count": null,
   "id": "2dea0ca2",
   "metadata": {},
   "outputs": [],
   "source": [
    "numeros = [1,3,5,7,9]\n",
    "i = 0 # contador de iteração - 0 para percorrer o primeiro item da lista numeros[0] = 1\n",
    "while i < len(numeros):\n",
    "    print(numeros[i])\n",
    "    i+=1"
   ]
  },
  {
   "cell_type": "markdown",
   "id": "f89b9436",
   "metadata": {},
   "source": [
    "## LIST COMPREHENSION"
   ]
  },
  {
   "cell_type": "markdown",
   "id": "90d829b8",
   "metadata": {},
   "source": [
    ">List comprehensions no Python são uma forma concisa e elegante de criar listas. \n",
    "\n",
    ">Elas oferecem uma alternativa mais eficiente e legível aos laços for e as funções lambda quando se trata de construir novas listas a partir de iteráveis existentes. \n",
    "\n",
    ">Em essência, você está criando uma nova lista aplicando uma expressão a cada item de uma sequência, e opcionalmente filtrando esses itens com uma condição."
   ]
  },
  {
   "cell_type": "code",
   "execution_count": null,
   "id": "f198606a",
   "metadata": {},
   "outputs": [],
   "source": [
    "fruits = [\"apple\", \"banana\", \"cherry\", \"kiwi\", \"mango\"]\n",
    "newlist = []\n",
    "\n",
    "for x in fruits:\n",
    "  if \"a\" in x:\n",
    "    newlist.append(x)\n",
    "\n",
    "print(newlist)"
   ]
  },
  {
   "cell_type": "markdown",
   "id": "c8f4458c",
   "metadata": {},
   "source": [
    "With list comprehension you can do all tht with one line of code."
   ]
  },
  {
   "cell_type": "code",
   "execution_count": null,
   "id": "94e3e37a",
   "metadata": {},
   "outputs": [],
   "source": [
    "fruits = [\"apple\", \"banana\", \"cherry\", \"kiwi\", \"mango\"]\n",
    "\n",
    "newlist = [x for x in fruits if \"a\" in x]\n",
    "\n",
    "print(newlist)"
   ]
  },
  {
   "cell_type": "markdown",
   "id": "2afc039b",
   "metadata": {},
   "source": [
    "## A SINTAXE\n",
    "\n",
    "```novalist [expressão for item in iterável if condição == TRUE]```\n",
    "\n",
    "- O valor de retorno é uma nova lista, deixando a nova lista inalterada.\n",
    "\n",
    "### CONDIÇÃO\n",
    "\n",
    "- A condição é como um filtro que apenas aceita os itens que são validados como verdadeiro."
   ]
  },
  {
   "cell_type": "code",
   "execution_count": null,
   "id": "f3f8ecad",
   "metadata": {},
   "outputs": [],
   "source": [
    "newlist = [x for x in fruits if x != \"apple\"]"
   ]
  },
  {
   "cell_type": "markdown",
   "id": "02df544d",
   "metadata": {},
   "source": [
    "A condição if x != \"apple\"  retornará True para todos os outros elementos do que \"maçã\", fazendo com que a nova lista contenha todas as frutas, exceto \"maçã\".\n",
    "\n",
    "O condição é opcional e pode ser omitido:\n",
    "\n",
    "**EXEMPLO**\n",
    "Com não if declaração:"
   ]
  },
  {
   "cell_type": "code",
   "execution_count": null,
   "id": "c843070e",
   "metadata": {},
   "outputs": [],
   "source": [
    "newlist = [x for x in fruits]"
   ]
  },
  {
   "cell_type": "markdown",
   "id": "9c131db7",
   "metadata": {},
   "source": [
    "### ITERÁVEL\n",
    "O iterável pode ser qualquer objeto iterável, como uma lista, tupla, conjunto etc.\n",
    "\n",
    "**EXEMPLO**\n",
    "Você pode usar o range() função para criar um iterável:"
   ]
  },
  {
   "cell_type": "code",
   "execution_count": null,
   "id": "eba69a2b",
   "metadata": {},
   "outputs": [],
   "source": [
    "newlist = [x for x in range(10)]"
   ]
  },
  {
   "cell_type": "markdown",
   "id": "03125b16",
   "metadata": {},
   "source": [
    "Mesmo exemplo, mas com uma condição:\n",
    "\n",
    "**EXEMPLO**\n",
    "Aceita apenas números menores que 5:"
   ]
  },
  {
   "cell_type": "code",
   "execution_count": null,
   "id": "4b66995a",
   "metadata": {},
   "outputs": [],
   "source": [
    "newlist = [x for x in range(10) if x < 5]"
   ]
  },
  {
   "cell_type": "markdown",
   "id": "1f1f457b",
   "metadata": {},
   "source": [
    "### EXPRESSÃO\n",
    "O expressão é o item atual na iteração, mas também é o resultado, que você pode manipular antes que acabe como um item de lista no novo lista:\n",
    "\n",
    "**EXEMPLO**\n",
    "Defina os valores na nova lista como maiúsculos:"
   ]
  },
  {
   "cell_type": "code",
   "execution_count": null,
   "id": "3a767931",
   "metadata": {},
   "outputs": [],
   "source": [
    "newlist = [x.upper() for x in fruits]"
   ]
  },
  {
   "cell_type": "markdown",
   "id": "b1c254dd",
   "metadata": {},
   "source": [
    "Você pode definir o resultado como quiser:\n",
    "\n",
    "**EXEMPLO**\n",
    "Defina todos os valores na nova lista como 'olá':"
   ]
  },
  {
   "cell_type": "code",
   "execution_count": null,
   "id": "c656a012",
   "metadata": {},
   "outputs": [],
   "source": [
    "newlist = ['hello' for x in fruits]"
   ]
  },
  {
   "cell_type": "markdown",
   "id": "3301b60e",
   "metadata": {},
   "source": [
    "O expressão também pode conter condições, não como um filtro, mas como um maneira de manipular o resultado:\n",
    "\n",
    "**EXEMPLO**\n",
    "Retorne \"laranja\" em vez de \"banana\":"
   ]
  },
  {
   "cell_type": "code",
   "execution_count": null,
   "id": "9e48aab0",
   "metadata": {},
   "outputs": [],
   "source": [
    "newlist = [x if x != \"banana\" else \"orange\" for x in fruits]"
   ]
  },
  {
   "cell_type": "markdown",
   "id": "b1709be0",
   "metadata": {},
   "source": [
    "O expressão no exemplo acima diz:\n",
    "\n",
    "> \"Devolva o item se não for banana, se for banana devolva laranja\"."
   ]
  },
  {
   "cell_type": "markdown",
   "id": "12a26080",
   "metadata": {},
   "source": [
    "## CLASSIFICAR LISTAS\n",
    "\n",
    "\n",
    "### CLASSIFICAR LISTAS ALFANUMERICAMENTE\n",
    "\n",
    "> Os objetos da lista têm um sort() método que classificará a lista alfanumericamente, em ordem crescente, por padrão:\n",
    "\n",
    "**EXEMPLO**\n",
    "Classifique a lista em ordem alfabética:"
   ]
  },
  {
   "cell_type": "code",
   "execution_count": null,
   "id": "561a7b39",
   "metadata": {},
   "outputs": [],
   "source": [
    "thislist = [\"orange\", \"mango\", \"kiwi\", \"pineapple\", \"banana\"]\n",
    "thislist.sort()\n",
    "print(thislist)"
   ]
  },
  {
   "cell_type": "code",
   "execution_count": null,
   "id": "c81440e4",
   "metadata": {},
   "outputs": [],
   "source": [
    "# Classifique a lista numericamente:\n",
    "\n",
    "thislist = [100, 50, 65, 82, 23]\n",
    "thislist.sort()\n",
    "print(thislist)"
   ]
  },
  {
   "cell_type": "markdown",
   "id": "e767f3f7",
   "metadata": {},
   "source": [
    "## CLASSIFICAÇÃO SEM DISTINÇÃO ENTRE MAIÚSCULAS E MINÚSCULAS\n",
    "\n",
    "> Por padrão o sort() o método diferencia maiúsculas de minúsculas, resultando em todas as letras maiúsculas sendo classificadas antes das letras minúsculas:\n",
    "\n",
    "**EXEMPLO** \n",
    "\n",
    "A classificação sensível a maiúsculas e minúsculas pode dar um resultado inesperado:"
   ]
  },
  {
   "cell_type": "code",
   "execution_count": null,
   "id": "018f2aed",
   "metadata": {},
   "outputs": [],
   "source": [
    "thislist = [\"banana\", \"Orange\", \"Kiwi\", \"cherry\"]\n",
    "thislist.sort()\n",
    "print(thislist)"
   ]
  },
  {
   "cell_type": "markdown",
   "id": "2bd666cf",
   "metadata": {},
   "source": [
    "Felizmente, podemos usar funções integradas como funções-chave ao classificar uma lista.\n",
    ">Então, se você quiser uma função de classificação que não diferencia maiúsculas de minúsculas, use str.lower como uma função-chave:"
   ]
  },
  {
   "cell_type": "code",
   "execution_count": null,
   "id": "6ac09c97",
   "metadata": {},
   "outputs": [],
   "source": [
    "thislist = [\"banana\", \"Orange\", \"Kiwi\", \"cherry\"]\n",
    "thislist.sort(key = str.lower)\n",
    "print(thislist)"
   ]
  },
  {
   "cell_type": "markdown",
   "id": "a6eac7a2",
   "metadata": {},
   "source": [
    "## ORDEM REVERSA\n",
    "\n",
    ">E se você quiser inverter a ordem de uma lista, independentemente do alfabeto?\n",
    "- O reverse() o método inverte a ordem de classificação atual dos elementos."
   ]
  },
  {
   "cell_type": "code",
   "execution_count": null,
   "id": "be9e8448",
   "metadata": {},
   "outputs": [],
   "source": [
    "# Exemplo\n",
    "# Inverta a ordem dos itens da lista:\n",
    "\n",
    "thislist = [\"banana\", \"Orange\", \"Kiwi\", \"cherry\"]\n",
    "thislist.reverse()\n",
    "print(thislist)"
   ]
  },
  {
   "cell_type": "markdown",
   "id": "d2d2045f",
   "metadata": {},
   "source": [
    "## CLASSIFICAR DECRESCENTE\n",
    "> Para classificar em ordem decrescente, use o argumento da palavra-chave reverse = True:\n"
   ]
  },
  {
   "cell_type": "code",
   "execution_count": null,
   "id": "e8a9efb3",
   "metadata": {},
   "outputs": [],
   "source": [
    "# Exemplo\n",
    "# Classifique a lista em ordem decrescente:\n",
    "\n",
    "thislist = [\"orange\", \"mango\", \"kiwi\", \"pineapple\", \"banana\"]\n",
    "thislist.sort(reverse = True)\n",
    "print(thislist)"
   ]
  },
  {
   "cell_type": "markdown",
   "id": "c01d78bb",
   "metadata": {},
   "source": [
    "# COPY A LIST\n",
    ">You cannot copy a list simply by typing list2 = list1, because: list2 will only be a reference to list1, and changes made in list1 will automatically also be made in list2.\n",
    "\n",
    "- se the copy() method\n",
    "- You can use the built-in List method copy() to copy a list."
   ]
  },
  {
   "cell_type": "code",
   "execution_count": 1,
   "id": "06c212cd",
   "metadata": {},
   "outputs": [
    {
     "name": "stdout",
     "output_type": "stream",
     "text": [
      "['apple', 'banana', 'cherry']\n"
     ]
    }
   ],
   "source": [
    "# Make a copy of a list with the copy() method:\n",
    "\n",
    "thislist = [\"apple\", \"banana\", \"cherry\"]\n",
    "mylist = thislist.copy()\n",
    "print(mylist)"
   ]
  },
  {
   "cell_type": "markdown",
   "id": "d1cdbb02",
   "metadata": {},
   "source": [
    "## USE THE LIST() METHOD\n",
    "> Another way to make a copy is to use the built-in method list()."
   ]
  },
  {
   "cell_type": "code",
   "execution_count": 3,
   "id": "d63f2ec9",
   "metadata": {},
   "outputs": [
    {
     "name": "stdout",
     "output_type": "stream",
     "text": [
      "['apple', 'banana', 'cherry']\n"
     ]
    }
   ],
   "source": [
    "# Example\n",
    "# Make a copy of a list with the list() method:\n",
    "\n",
    "thislist = [\"apple\", \"banana\", \"cherry\"]\n",
    "mylist = list(thislist)\n",
    "print(mylist)"
   ]
  },
  {
   "cell_type": "markdown",
   "id": "2d65b96a",
   "metadata": {},
   "source": [
    "## USE THE SLICE OPERATOR\n",
    "> You can also make a copy of a list by using the : (slice) operator."
   ]
  },
  {
   "cell_type": "code",
   "execution_count": 4,
   "id": "bfa68c85",
   "metadata": {},
   "outputs": [
    {
     "name": "stdout",
     "output_type": "stream",
     "text": [
      "['apple', 'banana', 'cherry']\n"
     ]
    }
   ],
   "source": [
    "# Example\n",
    "# Make a copy of a list with the : operator:\n",
    "\n",
    "thislist = [\"apple\", \"banana\", \"cherry\"]\n",
    "mylist = thislist[:]\n",
    "print(mylist)"
   ]
  },
  {
   "cell_type": "markdown",
   "id": "374c89fb",
   "metadata": {},
   "source": [
    "## PYTHON - JOIN LISTS\n",
    ">There are several ways to join, or concatenate, two or more lists in Python.\n",
    "\n",
    "- One of the easiest ways are by using the + operator."
   ]
  },
  {
   "cell_type": "code",
   "execution_count": 5,
   "id": "128246c7",
   "metadata": {},
   "outputs": [
    {
     "name": "stdout",
     "output_type": "stream",
     "text": [
      "['a', 'b', 'c', 1, 2, 3]\n"
     ]
    }
   ],
   "source": [
    "# Join two list:\n",
    "\n",
    "list1 = [\"a\", \"b\", \"c\"]\n",
    "list2 = [1, 2, 3]\n",
    "\n",
    "list3 = list1 + list2\n",
    "print(list3)"
   ]
  },
  {
   "cell_type": "markdown",
   "id": "d640e594",
   "metadata": {},
   "source": [
    "> Another way to join two lists is by appending all the items from list2 into list1, one by one:"
   ]
  },
  {
   "cell_type": "code",
   "execution_count": 12,
   "id": "c678a554",
   "metadata": {},
   "outputs": [
    {
     "name": "stdout",
     "output_type": "stream",
     "text": [
      "['a', 'b', 'c', 1, 2, 3]\n"
     ]
    }
   ],
   "source": [
    "# Example: append items from list2 into list1, one by one:\n",
    "\n",
    "list1 = [\"a\", \"b\", \"c\"]\n",
    "list2 = [1, 2, 3]\n",
    "\n",
    "for x in list2:\n",
    "    list1.append(x)\n",
    "print(list1)"
   ]
  },
  {
   "cell_type": "markdown",
   "id": "75cc60cd",
   "metadata": {},
   "source": [
    "> Or you can use the extend() method, where the purpose is to add elements from one list to another list:"
   ]
  },
  {
   "cell_type": "code",
   "execution_count": 16,
   "id": "9ca23b22",
   "metadata": {},
   "outputs": [
    {
     "name": "stdout",
     "output_type": "stream",
     "text": [
      "['a', 'b', 'c', 1, 2, 3]\n"
     ]
    }
   ],
   "source": [
    "# Example: use the extend() method to add all items from list2 to list1:\n",
    "\n",
    "list1 = [\"a\", \"b\", \"c\"]\n",
    "list2 = [1, 2, 3]\n",
    "\n",
    "list1.extend(list2)\n",
    "print(list1)"
   ]
  },
  {
   "cell_type": "code",
   "execution_count": null,
   "id": "018398c5",
   "metadata": {},
   "outputs": [],
   "source": []
  }
 ],
 "metadata": {
  "kernelspec": {
   "display_name": "dsa388",
   "language": "python",
   "name": "python3"
  },
  "language_info": {
   "codemirror_mode": {
    "name": "ipython",
    "version": 3
   },
   "file_extension": ".py",
   "mimetype": "text/x-python",
   "name": "python",
   "nbconvert_exporter": "python",
   "pygments_lexer": "ipython3",
   "version": "3.8.20"
  }
 },
 "nbformat": 4,
 "nbformat_minor": 5
}
