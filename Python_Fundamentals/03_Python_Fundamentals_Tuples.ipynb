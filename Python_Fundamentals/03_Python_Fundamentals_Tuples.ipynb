{
 "cells": [
  {
   "cell_type": "markdown",
   "id": "b121948a",
   "metadata": {},
   "source": [
    "# PYTHON TUPLES\n",
    "\n",
    "`mytuple = (\"apple\", \"banana\", \"cherry\")`\n",
    "\n",
    "## TUPLE\n",
    "> Tuples are used to store multiple items in a single variable.\n",
    ">Tuple is one of 4 built-in data types in Python used to store collections of data, the other 3 are List, Set, and Dictionary, all with different qualities and usage.\n",
    "\n",
    "- A tuple is a collection which is ordered and unchangeable.\n",
    "\n",
    "- Tuples are written with round brackets."
   ]
  },
  {
   "cell_type": "code",
   "execution_count": 1,
   "id": "6b5e069a",
   "metadata": {},
   "outputs": [
    {
     "name": "stdout",
     "output_type": "stream",
     "text": [
      "('apple', 'banana', 'cherry')\n"
     ]
    }
   ],
   "source": [
    "# Example\n",
    "# Create a Tuple:\n",
    "\n",
    "thistuple = (\"apple\", \"banana\", \"cherry\")\n",
    "print(thistuple)"
   ]
  },
  {
   "cell_type": "markdown",
   "id": "52755267",
   "metadata": {},
   "source": [
    "## TUPLE ITEMS\n",
    ">Tuple items are ordered, unchangeable, and allow duplicate values.\n",
    "\n",
    "- Tuple items are indexed, the first item has index [0], the second item has index [1] etc.\n",
    "\n",
    "### ORDERED\n",
    "When we say that tuples are ordered, it means that the items have a defined order, and that order will not change.\n",
    "\n",
    "### UNCHANGEABLE\n",
    "Tuples are unchangeable, meaning that we cannot change, add or remove items after the tuple has been created.\n",
    "\n",
    "### ALLOW DUPLICATES\n",
    "Since tuples are indexed, they can have items with the same value:"
   ]
  },
  {
   "cell_type": "code",
   "execution_count": 2,
   "id": "a95ea9ba",
   "metadata": {},
   "outputs": [
    {
     "name": "stdout",
     "output_type": "stream",
     "text": [
      "('apple', 'banana', 'cherry', 'apple', 'cherry')\n"
     ]
    }
   ],
   "source": [
    "# Example\n",
    "# Tuples allow duplicate values:\n",
    "\n",
    "thistuple = (\"apple\", \"banana\", \"cherry\", \"apple\", \"cherry\")\n",
    "print(thistuple)"
   ]
  },
  {
   "cell_type": "markdown",
   "id": "a972ed14",
   "metadata": {},
   "source": [
    "## TUPLE LENGTH\n",
    ">To determine how many items a tuple has, use the len() function:"
   ]
  },
  {
   "cell_type": "code",
   "execution_count": 1,
   "id": "1508db19",
   "metadata": {},
   "outputs": [
    {
     "name": "stdout",
     "output_type": "stream",
     "text": [
      "3\n"
     ]
    }
   ],
   "source": [
    "# Example\n",
    "# Print the number of items in the tuple:\n",
    "\n",
    "thistuple = (\"apple\", \"banana\", \"cherry\")\n",
    "print(len(thistuple))"
   ]
  },
  {
   "cell_type": "markdown",
   "id": "0734cf39",
   "metadata": {},
   "source": [
    "## CREATE TUPLE WITH ONE ITEM\n",
    "> To create a tuple with only one item, you have to add a comma after the item, otherwise Python will not recognize it as a tuple."
   ]
  },
  {
   "cell_type": "code",
   "execution_count": 3,
   "id": "9ceeb14b",
   "metadata": {},
   "outputs": [
    {
     "name": "stdout",
     "output_type": "stream",
     "text": [
      "<class 'tuple'>\n",
      "<class 'str'>\n"
     ]
    }
   ],
   "source": [
    "# Example\n",
    "# One item tuple, remember the comma:\n",
    "\n",
    "thistuple = (\"apple\",)\n",
    "print(type(thistuple))\n",
    "\n",
    "#NOT a tuple\n",
    "thistuple = (\"apple\")\n",
    "print(type(thistuple))"
   ]
  },
  {
   "cell_type": "markdown",
   "id": "db6390a2",
   "metadata": {},
   "source": [
    "## TUPLE ITEMS - DATA TYPES\n",
    "> Tuple items can be of any data type:"
   ]
  },
  {
   "cell_type": "code",
   "execution_count": 5,
   "id": "d3912792",
   "metadata": {},
   "outputs": [],
   "source": [
    "# Example\n",
    "# String, int and boolean data types:\n",
    "\n",
    "tuple1 = (\"apple\", \"banana\", \"cherry\")\n",
    "tuple2 = (1, 5, 7, 9, 3)\n",
    "tuple3 = (True, False, False)"
   ]
  },
  {
   "cell_type": "markdown",
   "id": "a7c3c189",
   "metadata": {},
   "source": [
    ">A tuple can contain different data types:"
   ]
  },
  {
   "cell_type": "code",
   "execution_count": 6,
   "id": "40cb3880",
   "metadata": {},
   "outputs": [],
   "source": [
    "# Example\n",
    "# A tuple with strings, integers and boolean values:\n",
    "\n",
    "tuple1 = (\"abc\", 34, True, 40, \"male\")"
   ]
  },
  {
   "cell_type": "markdown",
   "id": "52eea529",
   "metadata": {},
   "source": [
    "## TYPE()\n",
    ">From Python's perspective, tuples are defined as objects with the data type 'tuple':\n",
    "\n",
    "`<class 'tuple'>`"
   ]
  },
  {
   "cell_type": "code",
   "execution_count": 7,
   "id": "c92ca9c0",
   "metadata": {},
   "outputs": [
    {
     "name": "stdout",
     "output_type": "stream",
     "text": [
      "<class 'tuple'>\n"
     ]
    }
   ],
   "source": [
    "# Example\n",
    "# What is the data type of a tuple?\n",
    "\n",
    "mytuple = (\"apple\", \"banana\", \"cherry\")\n",
    "print(type(mytuple))"
   ]
  },
  {
   "cell_type": "markdown",
   "id": "ffa440db",
   "metadata": {},
   "source": [
    "## THE TUPLE() CONSTRUCTOR\n",
    "> It is also possible to use the tuple() constructor to make a tuple."
   ]
  },
  {
   "cell_type": "code",
   "execution_count": 8,
   "id": "db6c9fe0",
   "metadata": {},
   "outputs": [
    {
     "name": "stdout",
     "output_type": "stream",
     "text": [
      "('apple', 'banana', 'cherry')\n"
     ]
    }
   ],
   "source": [
    "# Example\n",
    "# Using the tuple() method to make a tuple:\n",
    "\n",
    "thistuple = tuple((\"apple\", \"banana\", \"cherry\")) # note the double round-brackets\n",
    "print(thistuple)"
   ]
  },
  {
   "cell_type": "markdown",
   "id": "3e1e3953",
   "metadata": {},
   "source": [
    "# ACCESS TUPLE ITEMS\n",
    "> You can access tuple items by referring to the index number, inside square brackets:"
   ]
  },
  {
   "cell_type": "code",
   "execution_count": 11,
   "id": "78af1a21",
   "metadata": {},
   "outputs": [
    {
     "name": "stdout",
     "output_type": "stream",
     "text": [
      "banana\n"
     ]
    }
   ],
   "source": [
    "# Example\n",
    "# Print the second item in the tuple:\n",
    "\n",
    "thistuple = (\"apple\", \"banana\", \"cherry\")\n",
    "print(thistuple[1]) # Note: The first item has index 0."
   ]
  },
  {
   "cell_type": "markdown",
   "id": "a7eaa696",
   "metadata": {},
   "source": [
    "## NEGATIVE INDEXING\n",
    "> Negative indexing means start from the end.\n",
    "\n",
    "-1 refers to the last item, -2 refers to the second last item etc."
   ]
  },
  {
   "cell_type": "code",
   "execution_count": 13,
   "id": "29dd070d",
   "metadata": {},
   "outputs": [
    {
     "name": "stdout",
     "output_type": "stream",
     "text": [
      "cherry\n"
     ]
    }
   ],
   "source": [
    "# Example\n",
    "# Print the last item of the tuple:\n",
    "\n",
    "thistuple = (\"apple\", \"banana\", \"cherry\")\n",
    "print(thistuple[-1])"
   ]
  },
  {
   "cell_type": "markdown",
   "id": "bc6a84fd",
   "metadata": {},
   "source": [
    "## RANGE OF INDEXES\n",
    ">You can specify a range of indexes by specifying where to start and where to end the range.\n",
    "\n",
    "- When specifying a range, the return value will be a new tuple with the specified items."
   ]
  },
  {
   "cell_type": "markdown",
   "id": "bcf0e585",
   "metadata": {},
   "source": [
    "**Note:** The search will start at index 2 (included) and end at index 5 (not included).\n",
    "\n",
    "- Remember that the first item has index 0.\n",
    "- By leaving out the start value, the range will start at the first item:"
   ]
  },
  {
   "cell_type": "code",
   "execution_count": 14,
   "id": "6a1c49f5",
   "metadata": {},
   "outputs": [
    {
     "name": "stdout",
     "output_type": "stream",
     "text": [
      "('cherry', 'orange', 'kiwi')\n"
     ]
    }
   ],
   "source": [
    "# Example\n",
    "# Return the third, fourth, and fifth item:\n",
    "\n",
    "thistuple = (\"apple\", \"banana\", \"cherry\", \"orange\", \"kiwi\", \"melon\", \"mango\")\n",
    "print(thistuple[2:5])"
   ]
  },
  {
   "cell_type": "markdown",
   "id": "5d17eb66",
   "metadata": {},
   "source": [
    "- Note: The search will start at index 2 (included) and end at index 5 (not included).\n",
    "- Remember that the first item has index 0.\n",
    "> By leaving out the end value, the range will go on to the end of the tuple:"
   ]
  },
  {
   "cell_type": "code",
   "execution_count": 16,
   "id": "485af481",
   "metadata": {},
   "outputs": [
    {
     "name": "stdout",
     "output_type": "stream",
     "text": [
      "('apple', 'banana', 'cherry', 'orange')\n"
     ]
    }
   ],
   "source": [
    "# Example\n",
    "# This example returns the items from the beginning to, but NOT included, \"kiwi\":\n",
    "\n",
    "thistuple = (\"apple\", \"banana\", \"cherry\", \"orange\", \"kiwi\", \"melon\", \"mango\")\n",
    "print(thistuple[:4])"
   ]
  },
  {
   "cell_type": "markdown",
   "id": "136f2e06",
   "metadata": {},
   "source": [
    "## RANGE OF NEGATIVE INDEXES\n",
    ">Specify negative indexes if you want to start the search from the end of the tuple:"
   ]
  },
  {
   "cell_type": "code",
   "execution_count": 17,
   "id": "c8566b88",
   "metadata": {},
   "outputs": [
    {
     "name": "stdout",
     "output_type": "stream",
     "text": [
      "('orange', 'kiwi', 'melon')\n"
     ]
    }
   ],
   "source": [
    "# Example\n",
    "# This example returns the items from index -4 (included) to index -1 (excluded)\n",
    "\n",
    "thistuple = (\"apple\", \"banana\", \"cherry\", \"orange\", \"kiwi\", \"melon\", \"mango\")\n",
    "print(thistuple[-4:-1])"
   ]
  },
  {
   "cell_type": "markdown",
   "id": "72edc5ee",
   "metadata": {},
   "source": [
    "## CHECK IF ITEM EXISTS\n",
    "> To determine if a specified item is present in a tuple use the in keyword:"
   ]
  },
  {
   "cell_type": "code",
   "execution_count": 18,
   "id": "3d08e6ab",
   "metadata": {},
   "outputs": [
    {
     "name": "stdout",
     "output_type": "stream",
     "text": [
      "Yes, 'apple' is in the fruits tuple\n"
     ]
    }
   ],
   "source": [
    "# Example\n",
    "# Check if \"apple\" is present in the tuple:\n",
    "\n",
    "thistuple = (\"apple\", \"banana\", \"cherry\")\n",
    "if \"apple\" in thistuple:\n",
    "  print(\"Yes, 'apple' is in the fruits tuple\")"
   ]
  },
  {
   "cell_type": "markdown",
   "id": "3dabfc52",
   "metadata": {},
   "source": [
    "# UPDATE TUPLES\n",
    ">Tuples are unchangeable, meaning that you cannot change, add, or remove items once the tuple is created.\n",
    "\n",
    "But there are some workarounds.\n",
    "\n",
    "## CHANGE TUPLE VALUES\n",
    "Once a tuple is created, you cannot change its values. \n",
    "\n",
    "> Tuples are **unchangeable**, or **immutable** as it also is called.\n",
    "\n",
    "But there is a workaround. You can convert the tuple into a list, change the list, and convert the list back into a tuple."
   ]
  },
  {
   "cell_type": "code",
   "execution_count": 19,
   "id": "9a06806d",
   "metadata": {},
   "outputs": [
    {
     "name": "stdout",
     "output_type": "stream",
     "text": [
      "('apple', 'kiwi', 'cherry')\n"
     ]
    }
   ],
   "source": [
    "# Example\n",
    "# Convert the tuple into a list to be able to change it:\n",
    "\n",
    "x = (\"apple\", \"banana\", \"cherry\")\n",
    "y = list(x)\n",
    "y[1] = \"kiwi\"\n",
    "x = tuple(y)\n",
    "\n",
    "print(x)"
   ]
  },
  {
   "cell_type": "markdown",
   "id": "d5544369",
   "metadata": {},
   "source": [
    " ## ADD ITEMS\n",
    ">Since tuples are immutable, they do not have a built-in append() method, but there are other ways to add items to a tuple.\n",
    "\n",
    "1. Convert into a list: Just like the workaround for changing a tuple, you can convert it into a list, add your item(s), and convert it back into a tuple."
   ]
  },
  {
   "cell_type": "code",
   "execution_count": 20,
   "id": "a776da5e",
   "metadata": {},
   "outputs": [],
   "source": [
    "# Example\n",
    "# Convert the tuple into a list, add \"orange\", and convert it back into a tuple:\n",
    "\n",
    "thistuple = (\"apple\", \"banana\", \"cherry\")\n",
    "y = list(thistuple)\n",
    "y.append(\"orange\")\n",
    "thistuple = tuple(y)"
   ]
  },
  {
   "cell_type": "markdown",
   "id": "4aa50e3a",
   "metadata": {},
   "source": [
    "2. Add tuple to a tuple. You are allowed to add tuples to tuples, so if you want to add one item, (or many), create a new tuple with the item(s), and add it to the existing tuple:"
   ]
  },
  {
   "cell_type": "code",
   "execution_count": 21,
   "id": "87b291e0",
   "metadata": {},
   "outputs": [
    {
     "name": "stdout",
     "output_type": "stream",
     "text": [
      "('apple', 'banana', 'cherry', 'orange')\n"
     ]
    }
   ],
   "source": [
    "# Example\n",
    "# Create a new tuple with the value \"orange\", and add that tuple:\n",
    "\n",
    "thistuple = (\"apple\", \"banana\", \"cherry\")\n",
    "y = (\"orange\",)\n",
    "thistuple += y\n",
    "\n",
    "print(thistuple)"
   ]
  },
  {
   "cell_type": "markdown",
   "id": "630b3d97",
   "metadata": {},
   "source": [
    "**Note**: When creating a tuple with only one item, remember to include a comma after the item, otherwise it will not be identified as a tuple."
   ]
  },
  {
   "cell_type": "markdown",
   "id": "b8de2b2a",
   "metadata": {},
   "source": [
    "## REMOVE ITEMS\n",
    "**Note**: You cannot remove items in a tuple.\n",
    "\n",
    ">Tuples are unchangeable, so you cannot remove items from it, but you can use the same workaround as we used for changing and adding tuple items:"
   ]
  },
  {
   "cell_type": "code",
   "execution_count": 22,
   "id": "ffc9bdcb",
   "metadata": {},
   "outputs": [],
   "source": [
    "# Example\n",
    "# Convert the tuple into a list, remove \"apple\", and convert it back into a tuple:\n",
    "\n",
    "thistuple = (\"apple\", \"banana\", \"cherry\")\n",
    "y = list(thistuple)\n",
    "y.remove(\"apple\")\n",
    "thistuple = tuple(y)"
   ]
  },
  {
   "cell_type": "markdown",
   "id": "86f40a4c",
   "metadata": {},
   "source": [
    "Or you can delete the tuple completely:"
   ]
  },
  {
   "cell_type": "code",
   "execution_count": null,
   "id": "d05d92ae",
   "metadata": {},
   "outputs": [],
   "source": []
  }
 ],
 "metadata": {
  "kernelspec": {
   "display_name": "dsa388",
   "language": "python",
   "name": "python3"
  },
  "language_info": {
   "codemirror_mode": {
    "name": "ipython",
    "version": 3
   },
   "file_extension": ".py",
   "mimetype": "text/x-python",
   "name": "python",
   "nbconvert_exporter": "python",
   "pygments_lexer": "ipython3",
   "version": "3.8.20"
  }
 },
 "nbformat": 4,
 "nbformat_minor": 5
}
