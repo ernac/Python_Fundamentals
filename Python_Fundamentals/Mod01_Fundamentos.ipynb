{
 "cells": [
  {
   "cell_type": "markdown",
   "id": "cb937e2d",
   "metadata": {},
   "source": [
    "# Variáveis em Python"
   ]
  },
  {
   "cell_type": "markdown",
   "id": "7c34c48d",
   "metadata": {},
   "source": [
    "> São contêineres para alocar valores de dados  "
   ]
  },
  {
   "cell_type": "markdown",
   "id": "16c8627d",
   "metadata": {},
   "source": [
    "## Criando variáveis\n",
    "\n",
    "- Python não tem um comando para declaração de variáveis. A variáveis é criado no momento que você atribui um valor a ela.\n",
    "- Variáveis não precisam ser criadas com um determinado tipo, e podem mesmo ter uma mudança de tipo depois de serem definidas."
   ]
  },
  {
   "cell_type": "code",
   "execution_count": 6,
   "id": "03532a42",
   "metadata": {},
   "outputs": [
    {
     "name": "stdout",
     "output_type": "stream",
     "text": [
      "5\n",
      "Ludmilla\n"
     ]
    }
   ],
   "source": [
    "# Declarando uma variável\n",
    "x = 5\n",
    "y = 'Ludmilla'\n",
    "print(x)\n",
    "print(y)"
   ]
  },
  {
   "cell_type": "code",
   "execution_count": null,
   "id": "79a50bb8",
   "metadata": {},
   "outputs": [
    {
     "name": "stdout",
     "output_type": "stream",
     "text": [
      "Joyce\n"
     ]
    }
   ],
   "source": [
    "x = 4 # variable of type int\n",
    "x = 'Joyce' # mudou a variável para o tipo str\n",
    "print(x)"
   ]
  },
  {
   "cell_type": "markdown",
   "id": "eaba9c66",
   "metadata": {},
   "source": [
    "## Definindo\n",
    "- Se você quiser especificar um tipo de dado para uma variável, você pode fazê-lo usando uma função espefícica (casting)."
   ]
  },
  {
   "cell_type": "code",
   "execution_count": 9,
   "id": "b7e50ec7",
   "metadata": {},
   "outputs": [],
   "source": [
    "x = str(3)    # x será '3'\n",
    "y = int(3)    # y será 3\n",
    "z = float(3)  # z será 3.0"
   ]
  },
  {
   "cell_type": "markdown",
   "id": "7b36abeb",
   "metadata": {},
   "source": [
    "## Saiba o tipo de variável\n",
    "- Você pode saber o tipo de dado de uma variável usando a função `type()`"
   ]
  },
  {
   "cell_type": "code",
   "execution_count": 10,
   "id": "5a23d31c",
   "metadata": {},
   "outputs": [
    {
     "name": "stdout",
     "output_type": "stream",
     "text": [
      "<class 'int'>\n",
      "<class 'str'>\n"
     ]
    }
   ],
   "source": [
    "x = 5\n",
    "y = \"John\"\n",
    "print(type(x))\n",
    "print(type(y))"
   ]
  },
  {
   "cell_type": "markdown",
   "id": "383cc877",
   "metadata": {},
   "source": [
    "## Case Sensitive e Aspas duplas ou simples\n",
    "- Strings podem ser representadas com aspas duplas ou simples - nunca uma de cada, na mesma string.\n",
    "- Python tem sensibilidade de caixa, ou seja, difere `A de a`."
   ]
  },
  {
   "cell_type": "code",
   "execution_count": 14,
   "id": "691bcc03",
   "metadata": {},
   "outputs": [],
   "source": [
    "# Aspas\n",
    "x = \"John\"\n",
    "# is the same as\n",
    "x = 'John'\n",
    "\n",
    "# Case Sensitive\n",
    "a = 4\n",
    "A = \"Sally\"\n",
    "#A é diferente de a.\n"
   ]
  },
  {
   "cell_type": "markdown",
   "id": "963a4e06",
   "metadata": {},
   "source": [
    "## Nomes de variáveis\n",
    "- Uma variável pode ter um nome curto (como x e y) ou um nome mais descritivo (idade, nome do carro, volume_total).\n",
    "\n",
    "### Regras para variáveis Python:\n",
    "\n",
    "- Um nome de variável deve começar com uma letra ou o caractere sublinhado\n",
    "- Um nome de variável não pode começar com um número\n",
    "- Um nome de variável só pode conter caracteres alfanuméricos e sublinhados (Az, 0-9 e _)\n",
    "- Os nomes das variáveis diferenciam maiúsculas de minúsculas (idade, idade e IDADE são três variáveis diferentes)\n",
    "- Um nome de variável não pode ser nenhum dos Palavras-chave Python."
   ]
  },
  {
   "cell_type": "markdown",
   "id": "c2d0c690",
   "metadata": {},
   "source": [
    "### Nomes de variáveis com várias palavras\n",
    "\n",
    ">Nomes de variáveis com mais de uma palavra podem ser difíceis de ler.>Existem várias técnicas que você pode usar para torná-los mais legíveis:"
   ]
  },
  {
   "cell_type": "code",
   "execution_count": 16,
   "id": "05049623",
   "metadata": {},
   "outputs": [
    {
     "name": "stdout",
     "output_type": "stream",
     "text": [
      "Motherfucker\n",
      "John\n",
      "Johnnie\n"
     ]
    }
   ],
   "source": [
    "## Camel Case\n",
    "myVariableName = 'Motherfucker'\n",
    "\n",
    "## Pascal Case\n",
    "MyVariableName = \"John\"\n",
    "\n",
    "## Snake Case\n",
    "my_variable_name = \"Johnnie\"\n",
    "\n",
    "print(myVariableName)\n",
    "print(MyVariableName)\n",
    "print(my_variable_name)"
   ]
  }
 ],
 "metadata": {
  "kernelspec": {
   "display_name": "estudo",
   "language": "python",
   "name": "python3"
  },
  "language_info": {
   "codemirror_mode": {
    "name": "ipython",
    "version": 3
   },
   "file_extension": ".py",
   "mimetype": "text/x-python",
   "name": "python",
   "nbconvert_exporter": "python",
   "pygments_lexer": "ipython3",
   "version": "3.13.2"
  }
 },
 "nbformat": 4,
 "nbformat_minor": 5
}
