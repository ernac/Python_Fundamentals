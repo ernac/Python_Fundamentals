{
 "cells": [
  {
   "cell_type": "markdown",
   "id": "fa2a7b99",
   "metadata": {},
   "source": [
    "# PYTHON - LISTAS\n",
    "\n",
    "> Listas são usadas para comportar múltiplos itens em uma única variável.\n",
    "> Listas são um dos quatro tipos de dados internos usados para armazenar conjutos de dados, os outros três são TUPLA, CONJUNTO e DICIONÁRIO, todos com qualidades únicas e usos particulares."
   ]
  },
  {
   "cell_type": "code",
   "execution_count": 19,
   "id": "1f710623",
   "metadata": {},
   "outputs": [
    {
     "name": "stdout",
     "output_type": "stream",
     "text": [
      "['banana', 'maçã', 'cereja']\n"
     ]
    }
   ],
   "source": [
    "# Criando uma lista\n",
    "lista1 = ['banana', 'maçã', 'cereja']\n",
    "print (lista1)"
   ]
  },
  {
   "cell_type": "markdown",
   "id": "b841a146",
   "metadata": {},
   "source": [
    "## ITENS DA LISTA\n",
    "\n",
    "> Itens são da lista são ordenados, mutáveis e permitem duplicatas. Listas são indexadas, com o primeiro item sendo `[0]` e o segundo item sendo `[1]`.\n",
    "\n",
    "- **Ordenadas**: significa que os itens tem uma determinada orderm e ela não será mudada. Se você adicionar novos itens a uma lista, os novos itens serão colocados ao final da lista.\n",
    "- **Mutável**: significa que é possível alterar a lista, seja por adição, mudança ou deleção de itens, depois da criação de uma lista.\n",
    "- **Duplicatas**: Listas são indexadas e podem ter itens de mesmo valor."
   ]
  },
  {
   "cell_type": "code",
   "execution_count": 20,
   "id": "b957f1bb",
   "metadata": {},
   "outputs": [
    {
     "name": "stdout",
     "output_type": "stream",
     "text": [
      "[1, 1, 1, 1, 1, 1] ['maçã', 'maçã', 'uva']\n",
      "3\n"
     ]
    }
   ],
   "source": [
    "# Lista que permite duplicatas\n",
    "lista1 = [1,1,1,1,1,1]\n",
    "lista2 = ['maçã','maçã','uva']\n",
    "print(lista1, lista2)\n",
    "\n",
    "# Saber o tamanho da lista\n",
    "print(len(lista2))"
   ]
  },
  {
   "cell_type": "markdown",
   "id": "ab22d6b8",
   "metadata": {},
   "source": [
    "# LISTAS PODEM CONTER TIPOS DE DADOS DIFERENTES\n",
    "\n",
    "> É possível criar uma lista que contenha strings, integers e valores booleanos.\n"
   ]
  },
  {
   "cell_type": "code",
   "execution_count": 21,
   "id": "ed9e0029",
   "metadata": {},
   "outputs": [
    {
     "name": "stdout",
     "output_type": "stream",
     "text": [
      "['L', 'J', 'V']\n",
      "['L', 9, 'J', 12, 'V', 13, True, True, False]\n"
     ]
    },
    {
     "data": {
      "text/plain": [
       "list"
      ]
     },
     "execution_count": 21,
     "metadata": {},
     "output_type": "execute_result"
    }
   ],
   "source": [
    "# Construtor da lista\n",
    "# Use list()\n",
    "\n",
    "lista_nova = list(('L','J','V')) # notar os parentesis duplos para a construção\n",
    "print(lista_nova)\n",
    "\n",
    "# Lista com múltiplos datat types\n",
    "lista_nova1 = list(('L',9,'J',12,'V',13,True,True,False))\n",
    "print(lista_nova1)\n",
    "\n",
    "# Usando type() para identificar uma lista\n",
    "type(lista_nova1)"
   ]
  },
  {
   "cell_type": "markdown",
   "id": "d0fa59da",
   "metadata": {},
   "source": [
    "# ACESSANDO ITENS DA LISTA\n",
    "> Acesse os itens da lista usando o número de índice - que começa em zero."
   ]
  },
  {
   "cell_type": "code",
   "execution_count": 22,
   "id": "b155c79b",
   "metadata": {},
   "outputs": [
    {
     "name": "stdout",
     "output_type": "stream",
     "text": [
      "L\n",
      "J\n",
      "V\n"
     ]
    }
   ],
   "source": [
    "print(lista_nova1[0])\n",
    "print(lista_nova1[2])\n",
    "print(lista_nova1[4])"
   ]
  },
  {
   "cell_type": "markdown",
   "id": "2f140d9a",
   "metadata": {},
   "source": [
    "# INTERVALO DE ÍNDICES\n",
    "> Você pode usar um intervalo especificando em qual item inicia e termina o intervalo da lista. Ao especificar um intervalo, o valor de retorno será uma nova lista com os itens especificados."
   ]
  },
  {
   "cell_type": "code",
   "execution_count": 23,
   "id": "543fced3",
   "metadata": {},
   "outputs": [
    {
     "name": "stdout",
     "output_type": "stream",
     "text": [
      "[9, 'J', 12]\n"
     ]
    }
   ],
   "source": [
    "print(lista_nova1[1:4]) # 1 é iNuído e o 4 é excluído"
   ]
  },
  {
   "cell_type": "markdown",
   "id": "26d6a270",
   "metadata": {},
   "source": [
    "## ÍNDICES NEGATIVOS\n",
    "> Índices negativos começam do final da lista, sendo o último item -1 e o penúltimo item -2."
   ]
  },
  {
   "cell_type": "code",
   "execution_count": 24,
   "id": "14493e97",
   "metadata": {},
   "outputs": [
    {
     "name": "stdout",
     "output_type": "stream",
     "text": [
      "False\n",
      "[13, True, True]\n"
     ]
    }
   ],
   "source": [
    "print(lista_nova1[-1])\n",
    "print(lista_nova1[-4:-1])"
   ]
  },
  {
   "cell_type": "markdown",
   "id": "cc3dcca2",
   "metadata": {},
   "source": [
    "## INTERVALOS SEM ÍNÍCIO E SEM FIM DE BUSCA\n",
    "> Definem um ponto de partida ou de término apenas."
   ]
  },
  {
   "cell_type": "code",
   "execution_count": 25,
   "id": "35854e0a",
   "metadata": {},
   "outputs": [
    {
     "name": "stdout",
     "output_type": "stream",
     "text": [
      "['L', 9, 'J', 12, 'V', 13, True, True, False]\n",
      "['L', 9, 'J', 12, 'V']\n",
      "[12, 'V', 13, True, True, False]\n"
     ]
    }
   ],
   "source": [
    "# Intervalo sem início, apenas com o fim.\n",
    "print(lista_nova1)\n",
    "print(lista_nova1[:5]) # vai do primeiro item ao quinto item\n",
    "\n",
    "# Intervalo apenas com o final, sem o início\n",
    "print(lista_nova1[3:]) # do item 3"
   ]
  },
  {
   "cell_type": "markdown",
   "id": "bef0a11a",
   "metadata": {},
   "source": [
    "## VERIFICANDO SE UM ITEM EXISTE\n",
    "> Para verificar a existência de um item em uma lista, utiliza-se a sintaxe `IN`. "
   ]
  },
  {
   "cell_type": "code",
   "execution_count": 26,
   "id": "26f8bc93",
   "metadata": {},
   "outputs": [
    {
     "name": "stdout",
     "output_type": "stream",
     "text": [
      "True\n",
      "False\n"
     ]
    }
   ],
   "source": [
    "# Checagem simples\n",
    "print('L' in lista_nova1)\n",
    "print('B' in lista_nova1)"
   ]
  },
  {
   "cell_type": "markdown",
   "id": "d13ae845",
   "metadata": {},
   "source": [
    "# PYTHON - MUDANDO ITENS DA LISTA\n",
    "> Para mudar um valor específico da lista, faça referência ao número de índice."
   ]
  },
  {
   "cell_type": "code",
   "execution_count": 27,
   "id": "b2796a29",
   "metadata": {},
   "outputs": [
    {
     "name": "stdout",
     "output_type": "stream",
     "text": [
      "L\n",
      "['B', 9, 'J', 12, 'V', 13, True, True, False]\n"
     ]
    }
   ],
   "source": [
    "print(lista_nova1[0])\n",
    "lista_nova1[0] = 'B'\n",
    "print(lista_nova1)"
   ]
  },
  {
   "cell_type": "markdown",
   "id": "b4668022",
   "metadata": {},
   "source": [
    "## MUDANDO UM INTERVALO DE VALORES\n",
    "> Para mudar o valor dos itens dentro de um intervalo específico, defina uma lista com os novos valores, e refira-se ao intervalo do número de índices que você quer inserir novos valores.\n",
    "\n",
    "Exemplo:\n",
    "Mudar os valores de 'J',12 para 'N',7"
   ]
  },
  {
   "cell_type": "code",
   "execution_count": 28,
   "id": "c9b63e91",
   "metadata": {},
   "outputs": [
    {
     "name": "stdout",
     "output_type": "stream",
     "text": [
      "['B', 9, 'J', 12, 'V', 13, True, True, False]\n",
      "['B', 12, 'C', 12, 'V', 13, True, True, False]\n"
     ]
    }
   ],
   "source": [
    "print(lista_nova1)\n",
    "lista_nova1[1:3] = [12,\"C\"]\n",
    "print(lista_nova1)\n"
   ]
  },
  {
   "cell_type": "markdown",
   "id": "bfb52618",
   "metadata": {},
   "source": [
    ">Se você inserir mais itens que você substitui, os novos itens são inseridos onde você espeficificou, e os demais itens se moverão de acordo."
   ]
  },
  {
   "cell_type": "code",
   "execution_count": 29,
   "id": "c328c19b",
   "metadata": {},
   "outputs": [
    {
     "name": "stdout",
     "output_type": "stream",
     "text": [
      "['J', 'A', 'R', 'M']\n"
     ]
    }
   ],
   "source": [
    "lista_nova = [\"J\",\"N\",\"M\"]\n",
    "lista_nova[1:2] = [\"A\",\"R\"]\n",
    "print(lista_nova)\n"
   ]
  },
  {
   "cell_type": "markdown",
   "id": "b97e0c9f",
   "metadata": {},
   "source": [
    "> Se você inserir menos itens que você substitui, os novos itens serão inseridos onde você especificou, e o restante dos itens se moverão de acordo."
   ]
  },
  {
   "cell_type": "code",
   "execution_count": 30,
   "id": "034fdab8",
   "metadata": {},
   "outputs": [
    {
     "name": "stdout",
     "output_type": "stream",
     "text": [
      "['J', 'B', 'M']\n"
     ]
    }
   ],
   "source": [
    "lista_nova[1:3] = [\"B\"]\n",
    "print(lista_nova)"
   ]
  },
  {
   "cell_type": "markdown",
   "id": "4b50b4cb",
   "metadata": {},
   "source": [
    "## INSERINDO ITENS\n",
    "> Para inserir um novo item, sem substituir qualquer um dos valores existentes, pode-se usar o método `insert()`.\n",
    "> O método `insert()` insere um item no índice especificado."
   ]
  },
  {
   "cell_type": "code",
   "execution_count": 31,
   "id": "5b735a16",
   "metadata": {},
   "outputs": [
    {
     "name": "stdout",
     "output_type": "stream",
     "text": [
      "['a', 'b', 'y', 'c']\n"
     ]
    }
   ],
   "source": [
    "letras =[\"a\",\"b\",\"c\"]\n",
    "letras.insert(2,\"y\")\n",
    "print(letras)"
   ]
  },
  {
   "cell_type": "markdown",
   "id": "b078d1cb",
   "metadata": {},
   "source": [
    "# PYTHON - ADICIONANDO ITENS À LISTA\n",
    "\n",
    "## ACRESCENTAR ITEM VIA MÉTODO\n",
    "\n",
    "### MÉTODO APPEND()\n",
    "\n",
    "> Usando o método `append()` para acrescentar um item. `append()` sempre irá acrescentar o item ao final da lista.  "
   ]
  },
  {
   "cell_type": "code",
   "execution_count": 32,
   "id": "4bd89a73",
   "metadata": {},
   "outputs": [
    {
     "name": "stdout",
     "output_type": "stream",
     "text": [
      "['Azul', 'Branco', 'Verde', 'Amarelo', 'Laranja']\n"
     ]
    }
   ],
   "source": [
    "cores = [\"Azul\",\"Branco\", \"Verde\", \"Amarelo\"]\n",
    "cores.append(\"Laranja\")\n",
    "print(cores)"
   ]
  },
  {
   "cell_type": "markdown",
   "id": "6b88c8d1",
   "metadata": {},
   "source": [
    "### MÉTODO INSERT()\n",
    "\n",
    "> Como já explicado anterior, outro método de inserção de itens na list é o método `insert()`. Com ele é possível inserir um item na lista, usando o índice como referência."
   ]
  },
  {
   "cell_type": "code",
   "execution_count": 33,
   "id": "f753b611",
   "metadata": {},
   "outputs": [
    {
     "name": "stdout",
     "output_type": "stream",
     "text": [
      "['Azul', 'Violeta', 'Branco', 'Verde', 'Amarelo']\n"
     ]
    }
   ],
   "source": [
    "cores = [\"Azul\",\"Branco\", \"Verde\", \"Amarelo\"]\n",
    "cores.insert(1,\"Violeta\")\n",
    "print(cores)"
   ]
  },
  {
   "cell_type": "markdown",
   "id": "5e91acb6",
   "metadata": {},
   "source": [
    "## ESTENDER A LISTA\n",
    "> Para acrescentar elementos de uma outra lista à lista atual, usa-se o método `extend()`. A segunda lista é adicionada ao final da primeira.\n",
    "\n",
    "**Observação**: O método `append()` não se limita a concatenar listas, podendo adicionar qualquer objetivo interativo (tuplas, conjuntos, dicionários, etc.)"
   ]
  },
  {
   "cell_type": "code",
   "execution_count": 34,
   "id": "16001cf0",
   "metadata": {},
   "outputs": [
    {
     "name": "stdout",
     "output_type": "stream",
     "text": [
      "['Batata', 'Cenoura', 'Chuchu', 'Manga', 'Abacaxi', 'Mamão']\n"
     ]
    }
   ],
   "source": [
    "# concatenando listas\n",
    "legumes = [\"Batata\",\"Cenoura\",\"Chuchu\"]\n",
    "frutas_tropicais = [\"Manga\",\"Abacaxi\",\"Mamão\"]\n",
    "legumes.extend(frutas_tropicais)\n",
    "print(legumes)"
   ]
  },
  {
   "cell_type": "code",
   "execution_count": 35,
   "id": "da54c080",
   "metadata": {},
   "outputs": [
    {
     "name": "stdout",
     "output_type": "stream",
     "text": [
      "['Batata', 'Cenoura', 'Chuchu', ('Kiwi', 'Laranja')]\n"
     ]
    }
   ],
   "source": [
    "# concatenando lista e tupla\n",
    "legumes = [\"Batata\",\"Cenoura\",\"Chuchu\"]\n",
    "frutas = ('Kiwi', 'Laranja')\n",
    "legumes.append(frutas)\n",
    "print(legumes)"
   ]
  },
  {
   "cell_type": "markdown",
   "id": "a08b1425",
   "metadata": {},
   "source": [
    "# REMOVENDO ITENS DA LISTA\n",
    "\n",
    ">Esta seção vai tratar de quatro métodos usados para exclusão de itens de uma lista:\n",
    "> - `remove()` - usado para apontar nominalmente o item a ser excluído. No caso de haver duas ocorrências o primeiro item é removido.\n",
    "> - `pop()` - usado para remover o último item da lista, se estiver em branco. Pode usar o número de índice também.\n",
    "> - `del()` - que pode ser usado para remover um item através do índice ou pode ser usado para apagar a lista completa.\n",
    "> - `clear()` - usado para limpar a lista completamente"
   ]
  },
  {
   "cell_type": "markdown",
   "id": "f181d74f",
   "metadata": {},
   "source": [
    "## MÉTODO REMOVE()"
   ]
  },
  {
   "cell_type": "code",
   "execution_count": 36,
   "id": "0c0f1875",
   "metadata": {},
   "outputs": [
    {
     "name": "stdout",
     "output_type": "stream",
     "text": [
      "['Preto', 'Rosa']\n"
     ]
    }
   ],
   "source": [
    "# MÉTODO REMOVE()\n",
    "cores = [\"Preto\", \"Rosa\", \"Lilás\"] # Lista usada para o exemplo\n",
    "cores.remove(\"Lilás\")\n",
    "print(cores)"
   ]
  },
  {
   "cell_type": "markdown",
   "id": "a0882472",
   "metadata": {},
   "source": [
    "## MÉTODO POP()"
   ]
  },
  {
   "cell_type": "code",
   "execution_count": 37,
   "id": "ff606843",
   "metadata": {},
   "outputs": [
    {
     "name": "stdout",
     "output_type": "stream",
     "text": [
      "['Preto', 'Rosa']\n"
     ]
    }
   ],
   "source": [
    "# MÉTODO POP()\n",
    "\n",
    "# sem apontar índice para remoção\n",
    "\n",
    "cores = [\"Preto\", \"Rosa\", \"Lilás\"] # Lista usada para o exemplo\n",
    "cores.pop() # remove o último item da lista\n",
    "print(cores)"
   ]
  },
  {
   "cell_type": "markdown",
   "id": "a39cbedf",
   "metadata": {},
   "source": [
    "## MÉTODO POP()"
   ]
  },
  {
   "cell_type": "code",
   "execution_count": 38,
   "id": "019faeb9",
   "metadata": {},
   "outputs": [
    {
     "name": "stdout",
     "output_type": "stream",
     "text": [
      "['Preto', 'Lilás']\n"
     ]
    }
   ],
   "source": [
    "# apontando índice para remoção\n",
    "cores = [\"Preto\", \"Rosa\", \"Lilás\"] # Lista usada para o exemplo\n",
    "cores.pop(1) # remove o índice item da lista\n",
    "print(cores)"
   ]
  },
  {
   "cell_type": "markdown",
   "id": "3b021614",
   "metadata": {},
   "source": [
    "## MÉTODO DEL()"
   ]
  },
  {
   "cell_type": "code",
   "execution_count": 39,
   "id": "fca8832f",
   "metadata": {},
   "outputs": [],
   "source": [
    "# MÉTODO DEL()\n",
    "cores = [\"Preto\", \"Rosa\", \"Lilás\"] # Lista usada para o exemplo\n",
    "del cores # apagando a lista completamente - remove o objeto\n"
   ]
  },
  {
   "cell_type": "markdown",
   "id": "6c2f1885",
   "metadata": {},
   "source": [
    "## MÉTODO CLEAR()"
   ]
  },
  {
   "cell_type": "code",
   "execution_count": 40,
   "id": "73a1d0cf",
   "metadata": {},
   "outputs": [
    {
     "name": "stdout",
     "output_type": "stream",
     "text": [
      "[]\n"
     ]
    }
   ],
   "source": [
    "# MÉTODO CLEAR()\n",
    "cores = [\"Preto\", \"Rosa\", \"Lilás\"] # Lista usada para o exemplo\n",
    "cores.clear() # limpa completamente a lista, porém não apaga o objeto lista.\n",
    "print(cores)"
   ]
  },
  {
   "cell_type": "code",
   "execution_count": 41,
   "id": "3a2a3176",
   "metadata": {},
   "outputs": [
    {
     "name": "stdout",
     "output_type": "stream",
     "text": [
      "PythonPythonPython\n"
     ]
    }
   ],
   "source": [
    "print(\"Python\" * 3)"
   ]
  },
  {
   "cell_type": "markdown",
   "id": "aae52dbb",
   "metadata": {},
   "source": [
    "# PERCORRENDO LISTAS\n",
    "\n",
    "> Neste bloco veremos como percorrer uma lista usando os laços de Python\n",
    "- FOR\n",
    "- Usando laço e índices\n",
    "- WHILE\n",
    "- List Comprehension "
   ]
  },
  {
   "cell_type": "markdown",
   "id": "85680e11",
   "metadata": {},
   "source": [
    "## LAÇO FOR"
   ]
  },
  {
   "cell_type": "code",
   "execution_count": 42,
   "id": "336eec61",
   "metadata": {},
   "outputs": [
    {
     "name": "stdout",
     "output_type": "stream",
     "text": [
      "1\n",
      "3\n",
      "5\n",
      "7\n",
      "9\n"
     ]
    }
   ],
   "source": [
    "numeros = [1,3,5,7,9]\n",
    "for x in numeros:\n",
    "    print(x)"
   ]
  },
  {
   "cell_type": "markdown",
   "id": "51098c0e",
   "metadata": {},
   "source": [
    "## PERCORRENDO OS NÚMEROS DE ÍNDICE"
   ]
  },
  {
   "cell_type": "code",
   "execution_count": 43,
   "id": "d886d8c8",
   "metadata": {},
   "outputs": [
    {
     "name": "stdout",
     "output_type": "stream",
     "text": [
      "1\n",
      "3\n",
      "5\n",
      "7\n",
      "9\n"
     ]
    }
   ],
   "source": [
    "# usando funções range() e len() para criar um interativo adequado\n",
    "numeros = [1,3,5,7,9]\n",
    "for i in range(len(numeros)):\n",
    "    print(numeros[i])\n"
   ]
  },
  {
   "cell_type": "markdown",
   "id": "ab40f02d",
   "metadata": {},
   "source": [
    "## LAÇO WHILE\n",
    "> Combine o laço while com a função `len()` para determinar o comprimento da lista (tamanho), então começo com um iterador 0 e percorra toda a lista usando essa referência de índices "
   ]
  },
  {
   "cell_type": "code",
   "execution_count": 44,
   "id": "2dea0ca2",
   "metadata": {},
   "outputs": [
    {
     "name": "stdout",
     "output_type": "stream",
     "text": [
      "1\n",
      "3\n",
      "5\n",
      "7\n",
      "9\n"
     ]
    }
   ],
   "source": [
    "numeros = [1,3,5,7,9]\n",
    "i = 0 # contador de iteração - 0 para percorrer o primeiro item da lista numeros[0] = 1\n",
    "while i < len(numeros):\n",
    "    print(numeros[i])\n",
    "    i+=1"
   ]
  },
  {
   "cell_type": "markdown",
   "id": "f89b9436",
   "metadata": {},
   "source": [
    "## LIST COMPREHENSION"
   ]
  },
  {
   "cell_type": "markdown",
   "id": "90d829b8",
   "metadata": {},
   "source": [
    ">List comprehensions no Python são uma forma concisa e elegante de criar listas. \n",
    "\n",
    ">Elas oferecem uma alternativa mais eficiente e legível aos laços for e as funções lambda quando se trata de construir novas listas a partir de iteráveis existentes. \n",
    "\n",
    ">Em essência, você está criando uma nova lista aplicando uma expressão a cada item de uma sequência, e opcionalmente filtrando esses itens com uma condição."
   ]
  },
  {
   "cell_type": "code",
   "execution_count": 45,
   "id": "f198606a",
   "metadata": {},
   "outputs": [
    {
     "name": "stdout",
     "output_type": "stream",
     "text": [
      "['apple', 'banana', 'mango']\n"
     ]
    }
   ],
   "source": [
    "fruits = [\"apple\", \"banana\", \"cherry\", \"kiwi\", \"mango\"]\n",
    "newlist = []\n",
    "\n",
    "for x in fruits:\n",
    "  if \"a\" in x:\n",
    "    newlist.append(x)\n",
    "\n",
    "print(newlist)"
   ]
  },
  {
   "cell_type": "markdown",
   "id": "c8f4458c",
   "metadata": {},
   "source": [
    "With list comprehension you can do all tht with one line of code."
   ]
  },
  {
   "cell_type": "code",
   "execution_count": 46,
   "id": "94e3e37a",
   "metadata": {},
   "outputs": [
    {
     "name": "stdout",
     "output_type": "stream",
     "text": [
      "['apple', 'banana', 'mango']\n"
     ]
    }
   ],
   "source": [
    "fruits = [\"apple\", \"banana\", \"cherry\", \"kiwi\", \"mango\"]\n",
    "\n",
    "newlist = [x for x in fruits if \"a\" in x]\n",
    "\n",
    "print(newlist)"
   ]
  },
  {
   "cell_type": "markdown",
   "id": "2afc039b",
   "metadata": {},
   "source": [
    "## A SINTAXE\n",
    "\n",
    "```novalist [expressão for item in iterável if condição == TRUE]```\n",
    "\n",
    "- O valor de retorno é uma nova lista, deixando a nova lista inalterada.\n",
    "\n",
    "### CONDIÇÃO\n",
    "\n",
    "- A condição é como um filtro que apenas aceita os itens que são validados como verdadeiro."
   ]
  },
  {
   "cell_type": "code",
   "execution_count": 47,
   "id": "f3f8ecad",
   "metadata": {},
   "outputs": [],
   "source": [
    "newlist = [x for x in fruits if x != \"apple\"]"
   ]
  },
  {
   "cell_type": "markdown",
   "id": "02df544d",
   "metadata": {},
   "source": [
    "A condição if x != \"apple\"  retornará True para todos os outros elementos do que \"maçã\", fazendo com que a nova lista contenha todas as frutas, exceto \"maçã\".\n",
    "\n",
    "O condição é opcional e pode ser omitido:\n",
    "\n",
    "** EXEMPLO **\n",
    "Com não if declaração:"
   ]
  },
  {
   "cell_type": "code",
   "execution_count": 48,
   "id": "c843070e",
   "metadata": {},
   "outputs": [],
   "source": [
    "newlist = [x for x in fruits]"
   ]
  },
  {
   "cell_type": "markdown",
   "id": "9c131db7",
   "metadata": {},
   "source": [
    "### ITERÁVEL\n",
    "O iterável pode ser qualquer objeto iterável, como uma lista, tupla, conjunto etc.\n",
    "\n",
    "** EXEMPLO **\n",
    "Você pode usar o range() função para criar um iterável:"
   ]
  },
  {
   "cell_type": "code",
   "execution_count": 49,
   "id": "eba69a2b",
   "metadata": {},
   "outputs": [],
   "source": [
    "newlist = [x for x in range(10)]"
   ]
  },
  {
   "cell_type": "markdown",
   "id": "03125b16",
   "metadata": {},
   "source": [
    "Mesmo exemplo, mas com uma condição:\n",
    "\n",
    "** EXEMPLO **\n",
    "Aceita apenas números menores que 5:"
   ]
  },
  {
   "cell_type": "code",
   "execution_count": 50,
   "id": "4b66995a",
   "metadata": {},
   "outputs": [],
   "source": [
    "newlist = [x for x in range(10) if x < 5]"
   ]
  },
  {
   "cell_type": "markdown",
   "id": "1f1f457b",
   "metadata": {},
   "source": [
    "### EXPRESSÃO\n",
    "O expressão é o item atual na iteração, mas também é o resultado, que você pode manipular antes que acabe como um item de lista no novo lista:\n",
    "\n",
    "** EXEMPLO **\n",
    "Defina os valores na nova lista como maiúsculos:"
   ]
  },
  {
   "cell_type": "code",
   "execution_count": 51,
   "id": "3a767931",
   "metadata": {},
   "outputs": [],
   "source": [
    "newlist = [x.upper() for x in fruits]"
   ]
  },
  {
   "cell_type": "markdown",
   "id": "b1c254dd",
   "metadata": {},
   "source": [
    "Você pode definir o resultado como quiser:\n",
    "\n",
    "** EXEMPLO **\n",
    "Defina todos os valores na nova lista como 'olá':"
   ]
  },
  {
   "cell_type": "code",
   "execution_count": 52,
   "id": "c656a012",
   "metadata": {},
   "outputs": [],
   "source": [
    "newlist = ['hello' for x in fruits]"
   ]
  },
  {
   "cell_type": "markdown",
   "id": "3301b60e",
   "metadata": {},
   "source": [
    "O expressão também pode conter condições, não como um filtro, mas como um maneira de manipular o resultado:\n",
    "\n",
    "** EXEMPLO **\n",
    "Retorne \"laranja\" em vez de \"banana\":"
   ]
  },
  {
   "cell_type": "code",
   "execution_count": 53,
   "id": "9e48aab0",
   "metadata": {},
   "outputs": [],
   "source": [
    "newlist = [x if x != \"banana\" else \"orange\" for x in fruits]"
   ]
  },
  {
   "cell_type": "markdown",
   "id": "b1709be0",
   "metadata": {},
   "source": [
    "O expressão no exemplo acima diz:\n",
    "\n",
    "> \"Devolva o item se não for banana, se for banana devolva laranja\"."
   ]
  },
  {
   "cell_type": "markdown",
   "id": "12a26080",
   "metadata": {},
   "source": [
    "## CLASSIFICAR LISTAS\n",
    "\n",
    "\n",
    "### CLASSIFICAR LISTAS ALFANUMERICAMENTE\n",
    "\n",
    "> Os objetos da lista têm um sort() método que classificará a lista alfanumericamente, em ordem crescente, por padrão:\n",
    "\n",
    "** EXEMPLO **\n",
    "Classifique a lista em ordem alfabética:"
   ]
  },
  {
   "cell_type": "code",
   "execution_count": 54,
   "id": "561a7b39",
   "metadata": {},
   "outputs": [
    {
     "name": "stdout",
     "output_type": "stream",
     "text": [
      "['banana', 'kiwi', 'mango', 'orange', 'pineapple']\n"
     ]
    }
   ],
   "source": [
    "thislist = [\"orange\", \"mango\", \"kiwi\", \"pineapple\", \"banana\"]\n",
    "thislist.sort()\n",
    "print(thislist)"
   ]
  },
  {
   "cell_type": "code",
   "execution_count": 55,
   "id": "c81440e4",
   "metadata": {},
   "outputs": [
    {
     "name": "stdout",
     "output_type": "stream",
     "text": [
      "[23, 50, 65, 82, 100]\n"
     ]
    }
   ],
   "source": [
    "# Classifique a lista numericamente:\n",
    "\n",
    "thislist = [100, 50, 65, 82, 23]\n",
    "thislist.sort()\n",
    "print(thislist)"
   ]
  },
  {
   "cell_type": "markdown",
   "id": "e767f3f7",
   "metadata": {},
   "source": [
    "## CLASSIFICAÇÃO SEM DISTINÇÃO ENTRE MAIÚSCULAS E MINÚSCULAS\n",
    "\n",
    "> Por padrão o sort() o método diferencia maiúsculas de minúsculas, resultando em todas as letras maiúsculas sendo classificadas antes das letras minúsculas:\n",
    "\n",
    "**Exemplo** \n",
    "\n",
    "A classificação sensível a maiúsculas e minúsculas pode dar um resultado inesperado:"
   ]
  },
  {
   "cell_type": "code",
   "execution_count": 56,
   "id": "018f2aed",
   "metadata": {},
   "outputs": [
    {
     "name": "stdout",
     "output_type": "stream",
     "text": [
      "['Kiwi', 'Orange', 'banana', 'cherry']\n"
     ]
    }
   ],
   "source": [
    "thislist = [\"banana\", \"Orange\", \"Kiwi\", \"cherry\"]\n",
    "thislist.sort()\n",
    "print(thislist)"
   ]
  }
 ],
 "metadata": {
  "kernelspec": {
   "display_name": "estudo",
   "language": "python",
   "name": "python3"
  },
  "language_info": {
   "codemirror_mode": {
    "name": "ipython",
    "version": 3
   },
   "file_extension": ".py",
   "mimetype": "text/x-python",
   "name": "python",
   "nbconvert_exporter": "python",
   "pygments_lexer": "ipython3",
   "version": "3.13.2"
  }
 },
 "nbformat": 4,
 "nbformat_minor": 5
}
